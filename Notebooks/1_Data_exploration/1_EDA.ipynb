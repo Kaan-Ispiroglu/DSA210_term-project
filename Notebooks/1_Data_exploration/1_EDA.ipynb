{
 "cells": [
  {
   "cell_type": "markdown",
   "id": "2baa34c8",
   "metadata": {},
   "source": [
    "# Exploratory Data Analysis: Clean & Prepare Dataset\n",
    "This notebook performs basic data preprocessing, including column cleanup and label encoding, and saves a cleaned version of the dataset for later use."
   ]
  },
  {
   "cell_type": "markdown",
   "id": "d233553c",
   "metadata": {},
   "source": [
    "### Import & Initial Cleanup\n",
    "This cell performs the following:\n",
    "\n",
    "- Loads the raw dataset from FINAL.csv.\n",
    "- Drops two columns that are likely irrelevant: 'coastline_wri' and 'Elevation (ft)'.\n",
    "- Prints the column names to detect formatting issues like leading/trailing spaces."
   ]
  },
  {
   "cell_type": "code",
   "execution_count": null,
   "id": "247f9228",
   "metadata": {},
   "outputs": [
    {
     "name": "stdout",
     "output_type": "stream",
     "text": [
      "['Country                 ', ' coastline_wf', ' sub-region                     ', ' latitude  ', ' longitude  ', ' Quality of Life Value', ' Quality of Life Category', ' Elevation (m)', ' Temperature (°C)']\n"
     ]
    }
   ],
   "source": [
    "import pandas as pd\n",
    "\n",
    "df = pd.read_csv(\"FINAL.csv\")\n",
    "df.drop([' coastline_wri',' Elevation (ft)'], axis=1,inplace=True)\n",
    "print(df.columns.tolist())\n"
   ]
  },
  {
   "cell_type": "markdown",
   "id": "15631700",
   "metadata": {},
   "source": [
    "### Rename Columns for Usability\n",
    "\n",
    "Cleans up column names by:\n",
    "\n",
    "- Removing leading/trailing spaces.\n",
    "- Converting names to a consistent style (e.g., underscores).\n",
    "- Making feature names shorter and more manageable."
   ]
  },
  {
   "cell_type": "code",
   "execution_count": 35,
   "id": "f68c543f",
   "metadata": {},
   "outputs": [
    {
     "name": "stdout",
     "output_type": "stream",
     "text": [
      "['Country', 'Coastline_wf', 'Sub-region', 'Latitude', 'Longitude', 'Quality_of_Life_Value', 'Quality_of_Life_Category', 'Elevation_m', 'Temperature_C']\n"
     ]
    }
   ],
   "source": [
    "df.rename(columns={'Country                 ': 'Country'},inplace=True)\n",
    "df.rename(columns={' coastline_wf': 'Coastline_wf'}, inplace=True)\n",
    "df.rename(columns={' sub-region                     ': 'Sub-region'}, inplace=True)\n",
    "df.rename(columns={' latitude  ': 'Latitude'}, inplace=True)\n",
    "df.rename(columns={' longitude  ': 'Longitude'}, inplace=True)\n",
    "df.rename(columns={' Quality of Life Value': 'Quality_of_Life_Value'}, inplace=True)\n",
    "df.rename(columns={' Quality of Life Category': 'Quality_of_Life_Category'}, inplace=True)\n",
    "df.rename(columns={' Elevation (m)': 'Elevation_m'}, inplace=True)\n",
    "df.rename(columns={' Temperature (°C)': 'Temperature_C'}, inplace=True)\n",
    "print(df.columns.tolist())"
   ]
  },
  {
   "cell_type": "markdown",
   "id": "b6c372d5",
   "metadata": {},
   "source": [
    "### Select and Reorder Relevant Columns\n",
    "This step manually selects important columns in a desired order, ensuring only relevant features are retained for further analysis or modeling."
   ]
  },
  {
   "cell_type": "code",
   "execution_count": 36,
   "id": "6b40808c",
   "metadata": {},
   "outputs": [
    {
     "name": "stdout",
     "output_type": "stream",
     "text": [
      "                    Country                        Sub-region  Coastline_wf  \\\n",
      "0  Albania                    Southern Europe                         362.0   \n",
      "1  Algeria                    Northern Africa                         998.0   \n",
      "2  Argentina                  Latin America and the Caribbean        4989.0   \n",
      "3  Armenia                    Western Asia                              0.0   \n",
      "4  Australia                  Australia and New Zealand             25760.0   \n",
      "\n",
      "    Latitude   Longitude  Elevation_m  Temperature_C  Quality_of_Life_Value  \\\n",
      "0  41.153332   20.168331        708.0          12.44                 104.16   \n",
      "1  28.033886    1.659626        800.0          23.60                  98.83   \n",
      "2 -38.416097  -63.616672        595.0          16.30                 115.06   \n",
      "3  40.069099   45.038189       1792.0           7.82                 116.56   \n",
      "4 -25.274398  133.775136        330.0          22.05                 190.69   \n",
      "\n",
      "    Quality_of_Life_Category  \n",
      "0   'Low'                     \n",
      "1   'Very Low'                \n",
      "2   'Low'                     \n",
      "3   'Low'                     \n",
      "4   'Very High'               \n"
     ]
    }
   ],
   "source": [
    "df= df[['Country', 'Sub-region', 'Coastline_wf', 'Latitude', 'Longitude',\n",
    "  'Elevation_m','Temperature_C','Quality_of_Life_Value', 'Quality_of_Life_Category',]]\n",
    "print(df.head())"
   ]
  },
  {
   "cell_type": "markdown",
   "id": "16ff2723",
   "metadata": {},
   "source": [
    "### Label Encoding of Categorical Feature\n",
    "\n",
    "This cell does the following:\n",
    "\n",
    "- Prints all unique values of the Sub-region column.\n",
    "- Encodes Sub-region into numerical values using LabelEncoder.\n",
    "- Inserts the new encoded column Sub_region_encoded immediately after the original Sub-region column.\n",
    "- Saves the cleaned DataFrame to a new CSV: FINAL_cleaned.csv."
   ]
  },
  {
   "cell_type": "code",
   "execution_count": 38,
   "id": "c62655de",
   "metadata": {},
   "outputs": [
    {
     "name": "stdout",
     "output_type": "stream",
     "text": [
      "-  Southern Europe                \n",
      "-  Northern Africa                \n",
      "-  Latin America and the Caribbean\n",
      "-  Western Asia                   \n",
      "-  Australia and New Zealand      \n",
      "-  Western Europe                 \n",
      "-  Southern Asia                  \n",
      "-  Eastern Europe                 \n",
      "-  Sub-Saharan Africa             \n",
      "-  South-eastern Asia             \n",
      "-  Northern America               \n",
      "-  Eastern Asia                   \n",
      "-  Northern Europe                \n",
      "-  Central Asia                   \n",
      "                    Country                        Sub-region  \\\n",
      "0  Albania                    Southern Europe                   \n",
      "1  Algeria                    Northern Africa                   \n",
      "2  Argentina                  Latin America and the Caribbean   \n",
      "3  Armenia                    Western Asia                      \n",
      "4  Australia                  Australia and New Zealand         \n",
      "\n",
      "   Sub_region_encoded  Coastline_wf   Latitude   Longitude  Elevation_m  \\\n",
      "0                  10         362.0  41.153332   20.168331        708.0   \n",
      "1                   5         998.0  28.033886    1.659626        800.0   \n",
      "2                   4        4989.0 -38.416097  -63.616672        595.0   \n",
      "3                  12           0.0  40.069099   45.038189       1792.0   \n",
      "4                   0       25760.0 -25.274398  133.775136        330.0   \n",
      "\n",
      "   Temperature_C  Quality_of_Life_Value   Quality_of_Life_Category  \n",
      "0          12.44                 104.16   'Low'                     \n",
      "1          23.60                  98.83   'Very Low'                \n",
      "2          16.30                 115.06   'Low'                     \n",
      "3           7.82                 116.56   'Low'                     \n",
      "4          22.05                 190.69   'Very High'               \n"
     ]
    }
   ],
   "source": [
    "from sklearn.preprocessing import LabelEncoder\n",
    "for value in df[\"Sub-region\"].dropna().unique():\n",
    "    print(\"-\", value)\n",
    "\n",
    "    \n",
    "# Encode the 'Sub-region' column\n",
    "label_encoder = LabelEncoder()\n",
    "encoded_col = label_encoder.fit_transform(df['Sub-region'])\n",
    "\n",
    "# Create a new column name\n",
    "new_col_name = 'Sub_region_encoded'\n",
    "\n",
    "# Find the index of 'Sub-region' column\n",
    "insert_pos = df.columns.get_loc('Sub-region') + 1\n",
    "\n",
    "# Insert the new encoded column right after 'Sub-region'\n",
    "df.insert(insert_pos, new_col_name, encoded_col)\n",
    "\n",
    "# Show updated column order\n",
    "print(df.head())\n",
    "df.to_csv(\"FINAL_cleaned.csv\", index=False)"
   ]
  },
  {
   "cell_type": "markdown",
   "id": "356eb355",
   "metadata": {},
   "source": [
    "### Summary\n",
    "\n",
    "This notebook:\n",
    "\n",
    "- Loads and cleans a raw dataset by fixing column names and dropping irrelevant fields.\n",
    "- Encodes a key categorical variable (Sub-region) for machine learning compatibility.\n",
    "- Saves the cleaned DataFrame to FINAL_cleaned.csv, which is ready for further exploratory data analysis and supervised learning."
   ]
  }
 ],
 "metadata": {
  "kernelspec": {
   "display_name": "Python 3",
   "language": "python",
   "name": "python3"
  },
  "language_info": {
   "codemirror_mode": {
    "name": "ipython",
    "version": 3
   },
   "file_extension": ".py",
   "mimetype": "text/x-python",
   "name": "python",
   "nbconvert_exporter": "python",
   "pygments_lexer": "ipython3",
   "version": "3.12.0"
  }
 },
 "nbformat": 4,
 "nbformat_minor": 5
}
